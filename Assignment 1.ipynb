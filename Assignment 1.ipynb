{
 "cells": [
  {
   "cell_type": "markdown",
   "id": "c87118e6",
   "metadata": {},
   "source": [
    "# Assignment 1.1\n"
   ]
  },
  {
   "cell_type": "markdown",
   "id": "4aabe329",
   "metadata": {},
   "source": [
    "# Create a pandas dataframe (DataFrame name as 'df') with numpy random values (4 features and 4 observation)\n"
   ]
  },
  {
   "cell_type": "code",
   "execution_count": null,
   "id": "e38d1cd8",
   "metadata": {},
   "outputs": [],
   "source": []
  },
  {
   "cell_type": "code",
   "execution_count": 61,
   "id": "7a58ed06",
   "metadata": {},
   "outputs": [],
   "source": [
    "import numpy as np\n",
    "import pandas as pd"
   ]
  },
  {
   "cell_type": "code",
   "execution_count": 62,
   "id": "efc7abe2",
   "metadata": {},
   "outputs": [],
   "source": [
    "# np.random.seed(42)"
   ]
  },
  {
   "cell_type": "code",
   "execution_count": 63,
   "id": "0ff2a808",
   "metadata": {},
   "outputs": [],
   "source": [
    "data=np.random.rand(4,4)"
   ]
  },
  {
   "cell_type": "code",
   "execution_count": 64,
   "id": "ba9a0c21",
   "metadata": {},
   "outputs": [
    {
     "data": {
      "text/html": [
       "<div>\n",
       "<style scoped>\n",
       "    .dataframe tbody tr th:only-of-type {\n",
       "        vertical-align: middle;\n",
       "    }\n",
       "\n",
       "    .dataframe tbody tr th {\n",
       "        vertical-align: top;\n",
       "    }\n",
       "\n",
       "    .dataframe thead th {\n",
       "        text-align: right;\n",
       "    }\n",
       "</style>\n",
       "<table border=\"1\" class=\"dataframe\">\n",
       "  <thead>\n",
       "    <tr style=\"text-align: right;\">\n",
       "      <th></th>\n",
       "      <th>feature1</th>\n",
       "      <th>feature2</th>\n",
       "      <th>feature3</th>\n",
       "      <th>feature4</th>\n",
       "    </tr>\n",
       "  </thead>\n",
       "  <tbody>\n",
       "    <tr>\n",
       "      <th>0</th>\n",
       "      <td>0.895523</td>\n",
       "      <td>0.389202</td>\n",
       "      <td>0.010838</td>\n",
       "      <td>0.905382</td>\n",
       "    </tr>\n",
       "    <tr>\n",
       "      <th>1</th>\n",
       "      <td>0.091287</td>\n",
       "      <td>0.319314</td>\n",
       "      <td>0.950062</td>\n",
       "      <td>0.950607</td>\n",
       "    </tr>\n",
       "    <tr>\n",
       "      <th>2</th>\n",
       "      <td>0.573438</td>\n",
       "      <td>0.631837</td>\n",
       "      <td>0.448446</td>\n",
       "      <td>0.293211</td>\n",
       "    </tr>\n",
       "    <tr>\n",
       "      <th>3</th>\n",
       "      <td>0.328665</td>\n",
       "      <td>0.672518</td>\n",
       "      <td>0.752375</td>\n",
       "      <td>0.791579</td>\n",
       "    </tr>\n",
       "  </tbody>\n",
       "</table>\n",
       "</div>"
      ],
      "text/plain": [
       "   feature1  feature2  feature3  feature4\n",
       "0  0.895523  0.389202  0.010838  0.905382\n",
       "1  0.091287  0.319314  0.950062  0.950607\n",
       "2  0.573438  0.631837  0.448446  0.293211\n",
       "3  0.328665  0.672518  0.752375  0.791579"
      ]
     },
     "execution_count": 64,
     "metadata": {},
     "output_type": "execute_result"
    }
   ],
   "source": [
    "df = pd.DataFrame(data,columns=['feature1','feature2','feature3','feature4'])\n",
    "df"
   ]
  },
  {
   "cell_type": "markdown",
   "id": "f77585b0",
   "metadata": {},
   "source": [
    "# Rename the task - 1 'df' dataframe column names to 'Random value 1', 'Random value 2', 'Random value 3' & 'Random value 4'\n"
   ]
  },
  {
   "cell_type": "code",
   "execution_count": 65,
   "id": "251b31ea",
   "metadata": {},
   "outputs": [
    {
     "data": {
      "text/html": [
       "<div>\n",
       "<style scoped>\n",
       "    .dataframe tbody tr th:only-of-type {\n",
       "        vertical-align: middle;\n",
       "    }\n",
       "\n",
       "    .dataframe tbody tr th {\n",
       "        vertical-align: top;\n",
       "    }\n",
       "\n",
       "    .dataframe thead th {\n",
       "        text-align: right;\n",
       "    }\n",
       "</style>\n",
       "<table border=\"1\" class=\"dataframe\">\n",
       "  <thead>\n",
       "    <tr style=\"text-align: right;\">\n",
       "      <th></th>\n",
       "      <th>Random value 1</th>\n",
       "      <th>Random value 2</th>\n",
       "      <th>Random value 3</th>\n",
       "      <th>Random value 4</th>\n",
       "    </tr>\n",
       "  </thead>\n",
       "  <tbody>\n",
       "    <tr>\n",
       "      <th>0</th>\n",
       "      <td>0.895523</td>\n",
       "      <td>0.389202</td>\n",
       "      <td>0.010838</td>\n",
       "      <td>0.905382</td>\n",
       "    </tr>\n",
       "    <tr>\n",
       "      <th>1</th>\n",
       "      <td>0.091287</td>\n",
       "      <td>0.319314</td>\n",
       "      <td>0.950062</td>\n",
       "      <td>0.950607</td>\n",
       "    </tr>\n",
       "    <tr>\n",
       "      <th>2</th>\n",
       "      <td>0.573438</td>\n",
       "      <td>0.631837</td>\n",
       "      <td>0.448446</td>\n",
       "      <td>0.293211</td>\n",
       "    </tr>\n",
       "    <tr>\n",
       "      <th>3</th>\n",
       "      <td>0.328665</td>\n",
       "      <td>0.672518</td>\n",
       "      <td>0.752375</td>\n",
       "      <td>0.791579</td>\n",
       "    </tr>\n",
       "  </tbody>\n",
       "</table>\n",
       "</div>"
      ],
      "text/plain": [
       "   Random value 1  Random value 2  Random value 3  Random value 4\n",
       "0        0.895523        0.389202        0.010838        0.905382\n",
       "1        0.091287        0.319314        0.950062        0.950607\n",
       "2        0.573438        0.631837        0.448446        0.293211\n",
       "3        0.328665        0.672518        0.752375        0.791579"
      ]
     },
     "execution_count": 65,
     "metadata": {},
     "output_type": "execute_result"
    }
   ],
   "source": [
    "df.rename(columns={'feature1':'Random value 1','feature2':'Random value 2','feature3':'Random value 3','feature4':'Random value 4'},inplace = True)\n",
    "df"
   ]
  },
  {
   "cell_type": "markdown",
   "id": "f9afa5ca",
   "metadata": {},
   "source": [
    "# Find the descriptive statistics of the 'df' dataframe."
   ]
  },
  {
   "cell_type": "code",
   "execution_count": 66,
   "id": "85f34bfb",
   "metadata": {},
   "outputs": [
    {
     "data": {
      "text/html": [
       "<div>\n",
       "<style scoped>\n",
       "    .dataframe tbody tr th:only-of-type {\n",
       "        vertical-align: middle;\n",
       "    }\n",
       "\n",
       "    .dataframe tbody tr th {\n",
       "        vertical-align: top;\n",
       "    }\n",
       "\n",
       "    .dataframe thead th {\n",
       "        text-align: right;\n",
       "    }\n",
       "</style>\n",
       "<table border=\"1\" class=\"dataframe\">\n",
       "  <thead>\n",
       "    <tr style=\"text-align: right;\">\n",
       "      <th></th>\n",
       "      <th>Random value 1</th>\n",
       "      <th>Random value 2</th>\n",
       "      <th>Random value 3</th>\n",
       "      <th>Random value 4</th>\n",
       "    </tr>\n",
       "  </thead>\n",
       "  <tbody>\n",
       "    <tr>\n",
       "      <th>count</th>\n",
       "      <td>4.000000</td>\n",
       "      <td>4.000000</td>\n",
       "      <td>4.000000</td>\n",
       "      <td>4.000000</td>\n",
       "    </tr>\n",
       "    <tr>\n",
       "      <th>mean</th>\n",
       "      <td>0.472228</td>\n",
       "      <td>0.503218</td>\n",
       "      <td>0.540430</td>\n",
       "      <td>0.735195</td>\n",
       "    </tr>\n",
       "    <tr>\n",
       "      <th>std</th>\n",
       "      <td>0.344068</td>\n",
       "      <td>0.175144</td>\n",
       "      <td>0.408921</td>\n",
       "      <td>0.302156</td>\n",
       "    </tr>\n",
       "    <tr>\n",
       "      <th>min</th>\n",
       "      <td>0.091287</td>\n",
       "      <td>0.319314</td>\n",
       "      <td>0.010838</td>\n",
       "      <td>0.293211</td>\n",
       "    </tr>\n",
       "    <tr>\n",
       "      <th>25%</th>\n",
       "      <td>0.269320</td>\n",
       "      <td>0.371730</td>\n",
       "      <td>0.339044</td>\n",
       "      <td>0.666987</td>\n",
       "    </tr>\n",
       "    <tr>\n",
       "      <th>50%</th>\n",
       "      <td>0.451051</td>\n",
       "      <td>0.510519</td>\n",
       "      <td>0.600410</td>\n",
       "      <td>0.848481</td>\n",
       "    </tr>\n",
       "    <tr>\n",
       "      <th>75%</th>\n",
       "      <td>0.653959</td>\n",
       "      <td>0.642008</td>\n",
       "      <td>0.801796</td>\n",
       "      <td>0.916688</td>\n",
       "    </tr>\n",
       "    <tr>\n",
       "      <th>max</th>\n",
       "      <td>0.895523</td>\n",
       "      <td>0.672518</td>\n",
       "      <td>0.950062</td>\n",
       "      <td>0.950607</td>\n",
       "    </tr>\n",
       "  </tbody>\n",
       "</table>\n",
       "</div>"
      ],
      "text/plain": [
       "       Random value 1  Random value 2  Random value 3  Random value 4\n",
       "count        4.000000        4.000000        4.000000        4.000000\n",
       "mean         0.472228        0.503218        0.540430        0.735195\n",
       "std          0.344068        0.175144        0.408921        0.302156\n",
       "min          0.091287        0.319314        0.010838        0.293211\n",
       "25%          0.269320        0.371730        0.339044        0.666987\n",
       "50%          0.451051        0.510519        0.600410        0.848481\n",
       "75%          0.653959        0.642008        0.801796        0.916688\n",
       "max          0.895523        0.672518        0.950062        0.950607"
      ]
     },
     "execution_count": 66,
     "metadata": {},
     "output_type": "execute_result"
    }
   ],
   "source": [
    "df.describe()"
   ]
  },
  {
   "cell_type": "markdown",
   "id": "fea4d090",
   "metadata": {},
   "source": [
    "# Check for the null values in 'df' and find the data type of the columns.\n"
   ]
  },
  {
   "cell_type": "code",
   "execution_count": 67,
   "id": "f56d9fe4",
   "metadata": {},
   "outputs": [
    {
     "data": {
      "text/plain": [
       "Random value 1    False\n",
       "Random value 2    False\n",
       "Random value 3    False\n",
       "Random value 4    False\n",
       "dtype: bool"
      ]
     },
     "execution_count": 67,
     "metadata": {},
     "output_type": "execute_result"
    }
   ],
   "source": [
    "df.isnull().any()"
   ]
  },
  {
   "cell_type": "code",
   "execution_count": 68,
   "id": "aa7f086f",
   "metadata": {},
   "outputs": [
    {
     "data": {
      "text/plain": [
       "pandas.core.series.Series"
      ]
     },
     "execution_count": 68,
     "metadata": {},
     "output_type": "execute_result"
    }
   ],
   "source": [
    "type(df.isnull().any())"
   ]
  },
  {
   "cell_type": "markdown",
   "id": "bb0c9381",
   "metadata": {},
   "source": [
    "# Display the 'Random value 2' & 'Random value 3' columns with location method and index location method"
   ]
  },
  {
   "cell_type": "code",
   "execution_count": 69,
   "id": "9f99eeaa",
   "metadata": {},
   "outputs": [
    {
     "data": {
      "text/plain": [
       "0    0.389202\n",
       "1    0.319314\n",
       "2    0.631837\n",
       "3    0.672518\n",
       "Name: Random value 2, dtype: float64"
      ]
     },
     "execution_count": 69,
     "metadata": {},
     "output_type": "execute_result"
    }
   ],
   "source": [
    "df['Random value 2']"
   ]
  },
  {
   "cell_type": "code",
   "execution_count": 70,
   "id": "eb6e1a3e",
   "metadata": {},
   "outputs": [
    {
     "data": {
      "text/plain": [
       "0    0.010838\n",
       "1    0.950062\n",
       "2    0.448446\n",
       "3    0.752375\n",
       "Name: Random value 3, dtype: float64"
      ]
     },
     "execution_count": 70,
     "metadata": {},
     "output_type": "execute_result"
    }
   ],
   "source": [
    "df['Random value 3']"
   ]
  },
  {
   "cell_type": "code",
   "execution_count": 71,
   "id": "ec1ce352",
   "metadata": {},
   "outputs": [
    {
     "data": {
      "text/html": [
       "<div>\n",
       "<style scoped>\n",
       "    .dataframe tbody tr th:only-of-type {\n",
       "        vertical-align: middle;\n",
       "    }\n",
       "\n",
       "    .dataframe tbody tr th {\n",
       "        vertical-align: top;\n",
       "    }\n",
       "\n",
       "    .dataframe thead th {\n",
       "        text-align: right;\n",
       "    }\n",
       "</style>\n",
       "<table border=\"1\" class=\"dataframe\">\n",
       "  <thead>\n",
       "    <tr style=\"text-align: right;\">\n",
       "      <th></th>\n",
       "      <th>Random value 2</th>\n",
       "      <th>Random value 3</th>\n",
       "    </tr>\n",
       "  </thead>\n",
       "  <tbody>\n",
       "    <tr>\n",
       "      <th>0</th>\n",
       "      <td>0.389202</td>\n",
       "      <td>0.010838</td>\n",
       "    </tr>\n",
       "    <tr>\n",
       "      <th>1</th>\n",
       "      <td>0.319314</td>\n",
       "      <td>0.950062</td>\n",
       "    </tr>\n",
       "    <tr>\n",
       "      <th>2</th>\n",
       "      <td>0.631837</td>\n",
       "      <td>0.448446</td>\n",
       "    </tr>\n",
       "    <tr>\n",
       "      <th>3</th>\n",
       "      <td>0.672518</td>\n",
       "      <td>0.752375</td>\n",
       "    </tr>\n",
       "  </tbody>\n",
       "</table>\n",
       "</div>"
      ],
      "text/plain": [
       "   Random value 2  Random value 3\n",
       "0        0.389202        0.010838\n",
       "1        0.319314        0.950062\n",
       "2        0.631837        0.448446\n",
       "3        0.672518        0.752375"
      ]
     },
     "execution_count": 71,
     "metadata": {},
     "output_type": "execute_result"
    }
   ],
   "source": [
    "df.loc[:,['Random value 2','Random value 3']] #location method"
   ]
  },
  {
   "cell_type": "code",
   "execution_count": 72,
   "id": "757c8d6d",
   "metadata": {},
   "outputs": [
    {
     "data": {
      "text/html": [
       "<div>\n",
       "<style scoped>\n",
       "    .dataframe tbody tr th:only-of-type {\n",
       "        vertical-align: middle;\n",
       "    }\n",
       "\n",
       "    .dataframe tbody tr th {\n",
       "        vertical-align: top;\n",
       "    }\n",
       "\n",
       "    .dataframe thead th {\n",
       "        text-align: right;\n",
       "    }\n",
       "</style>\n",
       "<table border=\"1\" class=\"dataframe\">\n",
       "  <thead>\n",
       "    <tr style=\"text-align: right;\">\n",
       "      <th></th>\n",
       "      <th>Random value 2</th>\n",
       "      <th>Random value 3</th>\n",
       "    </tr>\n",
       "  </thead>\n",
       "  <tbody>\n",
       "    <tr>\n",
       "      <th>0</th>\n",
       "      <td>0.389202</td>\n",
       "      <td>0.010838</td>\n",
       "    </tr>\n",
       "    <tr>\n",
       "      <th>1</th>\n",
       "      <td>0.319314</td>\n",
       "      <td>0.950062</td>\n",
       "    </tr>\n",
       "    <tr>\n",
       "      <th>2</th>\n",
       "      <td>0.631837</td>\n",
       "      <td>0.448446</td>\n",
       "    </tr>\n",
       "    <tr>\n",
       "      <th>3</th>\n",
       "      <td>0.672518</td>\n",
       "      <td>0.752375</td>\n",
       "    </tr>\n",
       "  </tbody>\n",
       "</table>\n",
       "</div>"
      ],
      "text/plain": [
       "   Random value 2  Random value 3\n",
       "0        0.389202        0.010838\n",
       "1        0.319314        0.950062\n",
       "2        0.631837        0.448446\n",
       "3        0.672518        0.752375"
      ]
     },
     "execution_count": 72,
     "metadata": {},
     "output_type": "execute_result"
    }
   ],
   "source": [
    "df.iloc[:,[1,2]] # indexing location method"
   ]
  },
  {
   "cell_type": "code",
   "execution_count": null,
   "id": "63b8867c",
   "metadata": {},
   "outputs": [],
   "source": []
  },
  {
   "cell_type": "code",
   "execution_count": null,
   "id": "636d07ad",
   "metadata": {},
   "outputs": [],
   "source": []
  },
  {
   "cell_type": "markdown",
   "id": "63e32f5e",
   "metadata": {},
   "source": [
    "# Assignment 1.2"
   ]
  },
  {
   "cell_type": "markdown",
   "id": "df2d8400",
   "metadata": {},
   "source": [
    "# Task - 1 Create a pandas dataframe (DataFrame name as 'df') (10 observation and 5 features)"
   ]
  },
  {
   "cell_type": "code",
   "execution_count": 73,
   "id": "c9623106",
   "metadata": {},
   "outputs": [],
   "source": [
    "import numpy as np\n",
    "import pandas as pd"
   ]
  },
  {
   "cell_type": "code",
   "execution_count": 74,
   "id": "762910a4",
   "metadata": {},
   "outputs": [
    {
     "data": {
      "text/plain": [
       "array([[0.78961814, 0.0912061 , 0.4944203 , 0.05755876, 0.54952888],\n",
       "       [0.4415305 , 0.88770418, 0.35091501, 0.11706702, 0.14299168],\n",
       "       [0.76151063, 0.61821806, 0.10112268, 0.08410681, 0.70096913],\n",
       "       [0.07276301, 0.82186006, 0.70624223, 0.08134878, 0.08483771],\n",
       "       [0.98663958, 0.3742708 , 0.37064215, 0.81279957, 0.94724858],\n",
       "       [0.98600106, 0.75337819, 0.37625959, 0.08350072, 0.77714692],\n",
       "       [0.55840425, 0.42422201, 0.90635439, 0.11119748, 0.4926251 ],\n",
       "       [0.01135364, 0.46866064, 0.05630328, 0.11881792, 0.11752625],\n",
       "       [0.6492103 , 0.74604488, 0.58336877, 0.96217255, 0.37487058],\n",
       "       [0.28571209, 0.86859913, 0.22359584, 0.96322254, 0.01215447]])"
      ]
     },
     "execution_count": 74,
     "metadata": {},
     "output_type": "execute_result"
    }
   ],
   "source": [
    "data = np.random.rand(10,5)\n",
    "data"
   ]
  },
  {
   "cell_type": "code",
   "execution_count": 75,
   "id": "fc11457c",
   "metadata": {},
   "outputs": [
    {
     "data": {
      "text/html": [
       "<div>\n",
       "<style scoped>\n",
       "    .dataframe tbody tr th:only-of-type {\n",
       "        vertical-align: middle;\n",
       "    }\n",
       "\n",
       "    .dataframe tbody tr th {\n",
       "        vertical-align: top;\n",
       "    }\n",
       "\n",
       "    .dataframe thead th {\n",
       "        text-align: right;\n",
       "    }\n",
       "</style>\n",
       "<table border=\"1\" class=\"dataframe\">\n",
       "  <thead>\n",
       "    <tr style=\"text-align: right;\">\n",
       "      <th></th>\n",
       "      <th>feature1</th>\n",
       "      <th>feature2</th>\n",
       "      <th>feature3</th>\n",
       "      <th>feature4</th>\n",
       "      <th>feature5</th>\n",
       "    </tr>\n",
       "  </thead>\n",
       "  <tbody>\n",
       "    <tr>\n",
       "      <th>0</th>\n",
       "      <td>0.789618</td>\n",
       "      <td>0.091206</td>\n",
       "      <td>0.494420</td>\n",
       "      <td>0.057559</td>\n",
       "      <td>0.549529</td>\n",
       "    </tr>\n",
       "    <tr>\n",
       "      <th>1</th>\n",
       "      <td>0.441531</td>\n",
       "      <td>0.887704</td>\n",
       "      <td>0.350915</td>\n",
       "      <td>0.117067</td>\n",
       "      <td>0.142992</td>\n",
       "    </tr>\n",
       "    <tr>\n",
       "      <th>2</th>\n",
       "      <td>0.761511</td>\n",
       "      <td>0.618218</td>\n",
       "      <td>0.101123</td>\n",
       "      <td>0.084107</td>\n",
       "      <td>0.700969</td>\n",
       "    </tr>\n",
       "    <tr>\n",
       "      <th>3</th>\n",
       "      <td>0.072763</td>\n",
       "      <td>0.821860</td>\n",
       "      <td>0.706242</td>\n",
       "      <td>0.081349</td>\n",
       "      <td>0.084838</td>\n",
       "    </tr>\n",
       "    <tr>\n",
       "      <th>4</th>\n",
       "      <td>0.986640</td>\n",
       "      <td>0.374271</td>\n",
       "      <td>0.370642</td>\n",
       "      <td>0.812800</td>\n",
       "      <td>0.947249</td>\n",
       "    </tr>\n",
       "    <tr>\n",
       "      <th>5</th>\n",
       "      <td>0.986001</td>\n",
       "      <td>0.753378</td>\n",
       "      <td>0.376260</td>\n",
       "      <td>0.083501</td>\n",
       "      <td>0.777147</td>\n",
       "    </tr>\n",
       "    <tr>\n",
       "      <th>6</th>\n",
       "      <td>0.558404</td>\n",
       "      <td>0.424222</td>\n",
       "      <td>0.906354</td>\n",
       "      <td>0.111197</td>\n",
       "      <td>0.492625</td>\n",
       "    </tr>\n",
       "    <tr>\n",
       "      <th>7</th>\n",
       "      <td>0.011354</td>\n",
       "      <td>0.468661</td>\n",
       "      <td>0.056303</td>\n",
       "      <td>0.118818</td>\n",
       "      <td>0.117526</td>\n",
       "    </tr>\n",
       "    <tr>\n",
       "      <th>8</th>\n",
       "      <td>0.649210</td>\n",
       "      <td>0.746045</td>\n",
       "      <td>0.583369</td>\n",
       "      <td>0.962173</td>\n",
       "      <td>0.374871</td>\n",
       "    </tr>\n",
       "    <tr>\n",
       "      <th>9</th>\n",
       "      <td>0.285712</td>\n",
       "      <td>0.868599</td>\n",
       "      <td>0.223596</td>\n",
       "      <td>0.963223</td>\n",
       "      <td>0.012154</td>\n",
       "    </tr>\n",
       "  </tbody>\n",
       "</table>\n",
       "</div>"
      ],
      "text/plain": [
       "   feature1  feature2  feature3  feature4  feature5\n",
       "0  0.789618  0.091206  0.494420  0.057559  0.549529\n",
       "1  0.441531  0.887704  0.350915  0.117067  0.142992\n",
       "2  0.761511  0.618218  0.101123  0.084107  0.700969\n",
       "3  0.072763  0.821860  0.706242  0.081349  0.084838\n",
       "4  0.986640  0.374271  0.370642  0.812800  0.947249\n",
       "5  0.986001  0.753378  0.376260  0.083501  0.777147\n",
       "6  0.558404  0.424222  0.906354  0.111197  0.492625\n",
       "7  0.011354  0.468661  0.056303  0.118818  0.117526\n",
       "8  0.649210  0.746045  0.583369  0.962173  0.374871\n",
       "9  0.285712  0.868599  0.223596  0.963223  0.012154"
      ]
     },
     "execution_count": 75,
     "metadata": {},
     "output_type": "execute_result"
    }
   ],
   "source": [
    "df = pd.DataFrame(data,columns=['feature1','feature2','feature3','feature4','feature5'])\n",
    "df"
   ]
  },
  {
   "cell_type": "markdown",
   "id": "20d3a2a6",
   "metadata": {},
   "source": [
    "# Task- 2 Check the info of 'df'"
   ]
  },
  {
   "cell_type": "code",
   "execution_count": 76,
   "id": "f137cd64",
   "metadata": {},
   "outputs": [
    {
     "name": "stdout",
     "output_type": "stream",
     "text": [
      "<class 'pandas.core.frame.DataFrame'>\n",
      "RangeIndex: 10 entries, 0 to 9\n",
      "Data columns (total 5 columns):\n",
      " #   Column    Non-Null Count  Dtype  \n",
      "---  ------    --------------  -----  \n",
      " 0   feature1  10 non-null     float64\n",
      " 1   feature2  10 non-null     float64\n",
      " 2   feature3  10 non-null     float64\n",
      " 3   feature4  10 non-null     float64\n",
      " 4   feature5  10 non-null     float64\n",
      "dtypes: float64(5)\n",
      "memory usage: 528.0 bytes\n"
     ]
    }
   ],
   "source": [
    "df.info()"
   ]
  },
  {
   "cell_type": "markdown",
   "id": "919b9afe",
   "metadata": {},
   "source": [
    "# Task 3- Check the descriptive statistics of 'df'"
   ]
  },
  {
   "cell_type": "code",
   "execution_count": 77,
   "id": "cf75ab4f",
   "metadata": {},
   "outputs": [
    {
     "data": {
      "text/html": [
       "<div>\n",
       "<style scoped>\n",
       "    .dataframe tbody tr th:only-of-type {\n",
       "        vertical-align: middle;\n",
       "    }\n",
       "\n",
       "    .dataframe tbody tr th {\n",
       "        vertical-align: top;\n",
       "    }\n",
       "\n",
       "    .dataframe thead th {\n",
       "        text-align: right;\n",
       "    }\n",
       "</style>\n",
       "<table border=\"1\" class=\"dataframe\">\n",
       "  <thead>\n",
       "    <tr style=\"text-align: right;\">\n",
       "      <th></th>\n",
       "      <th>feature1</th>\n",
       "      <th>feature2</th>\n",
       "      <th>feature3</th>\n",
       "      <th>feature4</th>\n",
       "      <th>feature5</th>\n",
       "    </tr>\n",
       "  </thead>\n",
       "  <tbody>\n",
       "    <tr>\n",
       "      <th>count</th>\n",
       "      <td>10.000000</td>\n",
       "      <td>10.000000</td>\n",
       "      <td>10.000000</td>\n",
       "      <td>10.000000</td>\n",
       "      <td>10.000000</td>\n",
       "    </tr>\n",
       "    <tr>\n",
       "      <th>mean</th>\n",
       "      <td>0.554274</td>\n",
       "      <td>0.605416</td>\n",
       "      <td>0.416922</td>\n",
       "      <td>0.339179</td>\n",
       "      <td>0.419990</td>\n",
       "    </tr>\n",
       "    <tr>\n",
       "      <th>std</th>\n",
       "      <td>0.348352</td>\n",
       "      <td>0.259702</td>\n",
       "      <td>0.265050</td>\n",
       "      <td>0.398324</td>\n",
       "      <td>0.325828</td>\n",
       "    </tr>\n",
       "    <tr>\n",
       "      <th>min</th>\n",
       "      <td>0.011354</td>\n",
       "      <td>0.091206</td>\n",
       "      <td>0.056303</td>\n",
       "      <td>0.057559</td>\n",
       "      <td>0.012154</td>\n",
       "    </tr>\n",
       "    <tr>\n",
       "      <th>25%</th>\n",
       "      <td>0.324667</td>\n",
       "      <td>0.435332</td>\n",
       "      <td>0.255426</td>\n",
       "      <td>0.083652</td>\n",
       "      <td>0.123893</td>\n",
       "    </tr>\n",
       "    <tr>\n",
       "      <th>50%</th>\n",
       "      <td>0.603807</td>\n",
       "      <td>0.682131</td>\n",
       "      <td>0.373451</td>\n",
       "      <td>0.114132</td>\n",
       "      <td>0.433748</td>\n",
       "    </tr>\n",
       "    <tr>\n",
       "      <th>75%</th>\n",
       "      <td>0.782591</td>\n",
       "      <td>0.804740</td>\n",
       "      <td>0.561132</td>\n",
       "      <td>0.639304</td>\n",
       "      <td>0.663109</td>\n",
       "    </tr>\n",
       "    <tr>\n",
       "      <th>max</th>\n",
       "      <td>0.986640</td>\n",
       "      <td>0.887704</td>\n",
       "      <td>0.906354</td>\n",
       "      <td>0.963223</td>\n",
       "      <td>0.947249</td>\n",
       "    </tr>\n",
       "  </tbody>\n",
       "</table>\n",
       "</div>"
      ],
      "text/plain": [
       "        feature1   feature2   feature3   feature4   feature5\n",
       "count  10.000000  10.000000  10.000000  10.000000  10.000000\n",
       "mean    0.554274   0.605416   0.416922   0.339179   0.419990\n",
       "std     0.348352   0.259702   0.265050   0.398324   0.325828\n",
       "min     0.011354   0.091206   0.056303   0.057559   0.012154\n",
       "25%     0.324667   0.435332   0.255426   0.083652   0.123893\n",
       "50%     0.603807   0.682131   0.373451   0.114132   0.433748\n",
       "75%     0.782591   0.804740   0.561132   0.639304   0.663109\n",
       "max     0.986640   0.887704   0.906354   0.963223   0.947249"
      ]
     },
     "execution_count": 77,
     "metadata": {},
     "output_type": "execute_result"
    }
   ],
   "source": [
    "df.describe()"
   ]
  },
  {
   "cell_type": "markdown",
   "id": "e0fe2b91",
   "metadata": {},
   "source": [
    "# Task 4- check the 4th index observation with 'loc' slicing operator."
   ]
  },
  {
   "cell_type": "code",
   "execution_count": 78,
   "id": "86909335",
   "metadata": {},
   "outputs": [
    {
     "data": {
      "text/html": [
       "<div>\n",
       "<style scoped>\n",
       "    .dataframe tbody tr th:only-of-type {\n",
       "        vertical-align: middle;\n",
       "    }\n",
       "\n",
       "    .dataframe tbody tr th {\n",
       "        vertical-align: top;\n",
       "    }\n",
       "\n",
       "    .dataframe thead th {\n",
       "        text-align: right;\n",
       "    }\n",
       "</style>\n",
       "<table border=\"1\" class=\"dataframe\">\n",
       "  <thead>\n",
       "    <tr style=\"text-align: right;\">\n",
       "      <th></th>\n",
       "      <th>feature1</th>\n",
       "      <th>feature2</th>\n",
       "      <th>feature3</th>\n",
       "      <th>feature4</th>\n",
       "      <th>feature5</th>\n",
       "    </tr>\n",
       "  </thead>\n",
       "  <tbody>\n",
       "    <tr>\n",
       "      <th>0</th>\n",
       "      <td>0.789618</td>\n",
       "      <td>0.091206</td>\n",
       "      <td>0.494420</td>\n",
       "      <td>0.057559</td>\n",
       "      <td>0.549529</td>\n",
       "    </tr>\n",
       "    <tr>\n",
       "      <th>1</th>\n",
       "      <td>0.441531</td>\n",
       "      <td>0.887704</td>\n",
       "      <td>0.350915</td>\n",
       "      <td>0.117067</td>\n",
       "      <td>0.142992</td>\n",
       "    </tr>\n",
       "    <tr>\n",
       "      <th>2</th>\n",
       "      <td>0.761511</td>\n",
       "      <td>0.618218</td>\n",
       "      <td>0.101123</td>\n",
       "      <td>0.084107</td>\n",
       "      <td>0.700969</td>\n",
       "    </tr>\n",
       "    <tr>\n",
       "      <th>3</th>\n",
       "      <td>0.072763</td>\n",
       "      <td>0.821860</td>\n",
       "      <td>0.706242</td>\n",
       "      <td>0.081349</td>\n",
       "      <td>0.084838</td>\n",
       "    </tr>\n",
       "    <tr>\n",
       "      <th>4</th>\n",
       "      <td>0.986640</td>\n",
       "      <td>0.374271</td>\n",
       "      <td>0.370642</td>\n",
       "      <td>0.812800</td>\n",
       "      <td>0.947249</td>\n",
       "    </tr>\n",
       "    <tr>\n",
       "      <th>5</th>\n",
       "      <td>0.986001</td>\n",
       "      <td>0.753378</td>\n",
       "      <td>0.376260</td>\n",
       "      <td>0.083501</td>\n",
       "      <td>0.777147</td>\n",
       "    </tr>\n",
       "    <tr>\n",
       "      <th>6</th>\n",
       "      <td>0.558404</td>\n",
       "      <td>0.424222</td>\n",
       "      <td>0.906354</td>\n",
       "      <td>0.111197</td>\n",
       "      <td>0.492625</td>\n",
       "    </tr>\n",
       "    <tr>\n",
       "      <th>7</th>\n",
       "      <td>0.011354</td>\n",
       "      <td>0.468661</td>\n",
       "      <td>0.056303</td>\n",
       "      <td>0.118818</td>\n",
       "      <td>0.117526</td>\n",
       "    </tr>\n",
       "    <tr>\n",
       "      <th>8</th>\n",
       "      <td>0.649210</td>\n",
       "      <td>0.746045</td>\n",
       "      <td>0.583369</td>\n",
       "      <td>0.962173</td>\n",
       "      <td>0.374871</td>\n",
       "    </tr>\n",
       "    <tr>\n",
       "      <th>9</th>\n",
       "      <td>0.285712</td>\n",
       "      <td>0.868599</td>\n",
       "      <td>0.223596</td>\n",
       "      <td>0.963223</td>\n",
       "      <td>0.012154</td>\n",
       "    </tr>\n",
       "  </tbody>\n",
       "</table>\n",
       "</div>"
      ],
      "text/plain": [
       "   feature1  feature2  feature3  feature4  feature5\n",
       "0  0.789618  0.091206  0.494420  0.057559  0.549529\n",
       "1  0.441531  0.887704  0.350915  0.117067  0.142992\n",
       "2  0.761511  0.618218  0.101123  0.084107  0.700969\n",
       "3  0.072763  0.821860  0.706242  0.081349  0.084838\n",
       "4  0.986640  0.374271  0.370642  0.812800  0.947249\n",
       "5  0.986001  0.753378  0.376260  0.083501  0.777147\n",
       "6  0.558404  0.424222  0.906354  0.111197  0.492625\n",
       "7  0.011354  0.468661  0.056303  0.118818  0.117526\n",
       "8  0.649210  0.746045  0.583369  0.962173  0.374871\n",
       "9  0.285712  0.868599  0.223596  0.963223  0.012154"
      ]
     },
     "execution_count": 78,
     "metadata": {},
     "output_type": "execute_result"
    }
   ],
   "source": [
    "df"
   ]
  },
  {
   "cell_type": "code",
   "execution_count": 79,
   "id": "3a5102c7",
   "metadata": {},
   "outputs": [
    {
     "data": {
      "text/plain": [
       "feature1    0.986640\n",
       "feature2    0.374271\n",
       "feature3    0.370642\n",
       "feature4    0.812800\n",
       "feature5    0.947249\n",
       "Name: 4, dtype: float64"
      ]
     },
     "execution_count": 79,
     "metadata": {},
     "output_type": "execute_result"
    }
   ],
   "source": [
    "df.loc[4,:]"
   ]
  },
  {
   "cell_type": "markdown",
   "id": "6fd0d31c",
   "metadata": {},
   "source": [
    "# Task 5 - Check the null values in your 'df'"
   ]
  },
  {
   "cell_type": "code",
   "execution_count": 80,
   "id": "11007f52",
   "metadata": {},
   "outputs": [
    {
     "data": {
      "text/plain": [
       "feature1    False\n",
       "feature2    False\n",
       "feature3    False\n",
       "feature4    False\n",
       "feature5    False\n",
       "dtype: bool"
      ]
     },
     "execution_count": 80,
     "metadata": {},
     "output_type": "execute_result"
    }
   ],
   "source": [
    "df.isnull().any()"
   ]
  },
  {
   "cell_type": "code",
   "execution_count": null,
   "id": "c369ea30",
   "metadata": {},
   "outputs": [],
   "source": []
  }
 ],
 "metadata": {
  "kernelspec": {
   "display_name": "Python 3",
   "language": "python",
   "name": "python3"
  },
  "language_info": {
   "codemirror_mode": {
    "name": "ipython",
    "version": 3
   },
   "file_extension": ".py",
   "mimetype": "text/x-python",
   "name": "python",
   "nbconvert_exporter": "python",
   "pygments_lexer": "ipython3",
   "version": "3.8.8"
  }
 },
 "nbformat": 4,
 "nbformat_minor": 5
}
